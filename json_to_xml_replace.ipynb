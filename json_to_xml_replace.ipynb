{
 "cells": [
  {
   "cell_type": "code",
   "execution_count": 12,
   "metadata": {},
   "outputs": [],
   "source": [
    "with open('schedule.json','r', encoding='utf-8') as f:\n",
    "    data = f.read().strip()"
   ]
  },
  {
   "cell_type": "code",
   "execution_count": 14,
   "metadata": {},
   "outputs": [
    {
     "name": "stdout",
     "output_type": "stream",
     "text": [
      "<root>\n",
      "    <even_week>false</even_week>\n",
      "    <date>12.11.2024</date>\n",
      "    <day_of_week>Tuesday</day_of_week>\n",
      "    <couples>\n",
      "        <format>Очно - дистанционный</format>\n",
      "        <group>2.3</group>\n",
      "        <type>Практика</type>\n",
      "        <name>Математический анализ</name>\n",
      "        <teacher>Юрова Татьяна Сергеевна</teacher>\n",
      "        <place>\n",
      "            <campus>Кронверкский пр., д.49, лит.А</campus>\n",
      "            <audience>2414</audience>\n",
      "        </place>\n",
      "        <time>\n",
      "            <time_from>8:20</time_from>\n",
      "            <time_to>9:50</time_to>\n",
      "        </time>\n",
      "    </couples>\n",
      "    <couples>\n",
      "        <format>Очно - дистанционный</format>\n",
      "        <group>2.1</group>\n",
      "        <type>Практика</type>\n",
      "        <name>Линейная алгебра</name>\n",
      "        <teacher>Ефремов Илья Дмитриевич</teacher>\n",
      "        <place>\n",
      "            <campus>Кронверкский пр., д.49, лит.А</campus>\n",
      "            <audience>1316</audience>\n",
      "        </place>\n",
      "        <time>\n",
      "            <time_from>11:40</time_from>\n",
      "            <time_to>13:10</time_to>\n",
      "        </time>\n",
      "    </couples>\n",
      "</root>\n",
      "\n"
     ]
    }
   ],
   "source": [
    "def json_to_xml_replace(data: str) -> str:\n",
    "    \n",
    "    tab_cnt = 0\n",
    "    xml = ''\n",
    "    key = 'root'\n",
    "    dict_stack = []\n",
    "    list_stack = [key]\n",
    "    for line in data.splitlines():\n",
    "        striped_line = line.strip()\n",
    "        if striped_line=='': continue\n",
    "        if striped_line[-1]==',': striped_line = striped_line[:-1]\n",
    "        \n",
    "        key, obj = get_token(striped_line, list_stack)\n",
    "        \n",
    "        if obj[-1]=='{': \n",
    "            xml += tab_cnt * '    ' + f'<{key}>\\n'\n",
    "            dict_stack.append(key)\n",
    "            tab_cnt+=1\n",
    "        elif obj[-1] == '[':\n",
    "            list_stack.append(key)\n",
    "        elif obj == ']':\n",
    "            list_stack.pop()\n",
    "        elif obj == '}':\n",
    "            dict_key = dict_stack.pop()\n",
    "            tab_cnt-=1\n",
    "            xml += tab_cnt * '    ' + f'</{dict_key}>\\n'\n",
    "        else:\n",
    "            xml += tab_cnt * '    ' + f'<{key}>{obj}</{key}>\\n'\n",
    "    return xml\n",
    "\n",
    "\n",
    "\n",
    "def get_token(line:str, lst: list) :\n",
    "    splitted = line.split(':')\n",
    "    splitted = [split.replace('\"', '') for split in splitted]\n",
    "    if len(splitted)>1:\n",
    "        splitted = [splitted[0], ':'.join(splitted[1:])]\n",
    "    if len(splitted)==1: \n",
    "        splitted.append(lst[-1])\n",
    "        splitted = splitted[::-1]\n",
    "    return  splitted[0], splitted[-1].strip()\n",
    "\n",
    "d = json_to_xml_replace(data)\n",
    "print(d)"
   ]
  },
  {
   "cell_type": "code",
   "execution_count": 16,
   "metadata": {},
   "outputs": [
    {
     "name": "stdout",
     "output_type": "stream",
     "text": [
      "<?xml version=\"1.0\" encoding=\"utf-8\"?>\n",
      "<root><even_week>false</even_week><date>12.11.2024</date><day_of_week>Tuesday</day_of_week><couples><format>Очно - дистанционный</format><group>2.3</group><type>Практика</type><name>Математический анализ</name><teacher>Юрова Татьяна Сергеевна</teacher><place><campus>Кронверкский пр., д.49, лит.А</campus><audience>2414</audience></place><time><time_from>8:20</time_from><time_to>9:50</time_to></time></couples><couples><format>Очно - дистанционный</format><group>2.1</group><type>Практика</type><name>Линейная алгебра</name><teacher>Ефремов Илья Дмитриевич</teacher><place><campus>Кронверкский пр., д.49, лит.А</campus><audience>1316</audience></place><time><time_from>11:40</time_from><time_to>13:10</time_to></time></couples></root>\n"
     ]
    }
   ],
   "source": [
    "import json\n",
    "import xmltodict\n",
    "with open('schedule.json', 'r', encoding='utf-8') as f:\n",
    "        data = json.load(f)\n",
    "def bibl(d):\n",
    "    \n",
    "    d = xmltodict.unparse({'root': data})\n",
    "    return d\n",
    "print(bibl(data))\n"
   ]
  },
  {
   "cell_type": "code",
   "execution_count": 18,
   "metadata": {},
   "outputs": [
    {
     "name": "stdout",
     "output_type": "stream",
     "text": [
      "<root>\n",
      "    <even_week>false</even_week>\n",
      "    <date>12.11.2024</date>\n",
      "    <day_of_week>Tuesday</day_of_week>\n",
      "        <couples>\n",
      "            <format>Очно - дистанционный</format>\n",
      "            <group>2.3</group>\n",
      "            <type>Практика</type>\n",
      "            <name>Математический анализ</name>\n",
      "            <teacher>Юрова Татьяна Сергеевна</teacher>\n",
      "            <place>\n",
      "                <campus>Кронверкский пр., д.49, лит.А</campus>\n",
      "                <audience>2414</audience>\n",
      "            </place>\n",
      "            \n",
      "            <time>\n",
      "                <time_from>8:20</time_from>\n",
      "                <time_to>9:50</time_to>\n",
      "            </time>\n",
      "        </couples>\n",
      "\n",
      "        <couples>\n",
      "            <format>Очно - дистанционный</format>\n",
      "            <group>2.1</group>\n",
      "            <type>Практика</type>\n",
      "            <name>Линейная алгебра</name>\n",
      "            <teacher>Ефремов Илья Дмитриевич</teacher>\n",
      "            <place>\n",
      "                <campus>Кронверкский пр., д.49, лит.А</campus>\n",
      "                <audience>1316</audience>\n",
      "            </place>\n",
      "            <time>\n",
      "                <time_from>11:40</time_from>\n",
      "                <time_to>13:10</time_to>\n",
      "            </time>\n",
      "        </couples>\n",
      "</root>\n"
     ]
    }
   ],
   "source": [
    "with open('schedule.json', 'r', encoding='utf-8') as f:\n",
    "    data = f.read().strip()\n",
    "\n",
    "\n",
    "import re\n",
    "def regex(data) -> str:\n",
    "    data = re.sub(r'\\\"([^\\\"]+)\\\"\\s*:\\s*\\\"([^\\\"]+)\\\"', r'<\\1>\\2</\\1>', data)\n",
    "    data = re.sub(r'\\\"([^\\\"]+)\\\"\\s*:\\s*(\\d+\\.?\\d*)', r'<\\1>\\2</\\1>', data)\n",
    "    data = re.sub(r'\\\"([^\\\"]+)\\\"\\s*:\\s*(false|true)', r'<\\1>\\2</\\1>', data)\n",
    "    data = re.sub(r'(?P<spaces> *)\\\"(\\w+)\\\":\\s*{([^{]*)(?P=spaces)}', r'\\1<\\2>\\3\\1</\\2>', data)\n",
    "    list_items = re.search(r'( +)\\\"([^\\\"]+)\\\"\\s*:\\s*\\[', data)\n",
    "    list_key = list_items.group(2)\n",
    "    spaces = list_items.group(1)\n",
    "    data = re.sub(r'( +)\\\"([^\\\"]+)\\\"\\s*:\\s*\\[\\n([^\\]]+)\\n\\s*\\]', r'\\3', data)\n",
    "    data = re.sub(rf'{re.escape(spaces)}\\{{([^\\}}]+{re.escape(spaces)})\\}}', rf'{spaces}<{list_key}>\\1</{list_key}>', data)\n",
    "    data = re.sub(rf'{re.escape(spaces)}\\\"([^\\\"]*)\\\"', rf'{spaces}<{list_key}>\\1</{list_key}>', data)\n",
    "    data = re.sub(rf'{re.escape(spaces)}(\\d+\\.?\\d*|(?:false|true))', rf'{spaces}<{list_key}>\\1</{list_key}>', data)\n",
    "    data = re.sub(r'{([^\\}]*)}', r'<root>\\1</root>', data)\n",
    "    data = data.replace(',\\n', '\\n')\n",
    "    return data\n",
    "d = regex(data)\n",
    "print(d)"
   ]
  },
  {
   "cell_type": "code",
   "execution_count": 9,
   "metadata": {},
   "outputs": [
    {
     "name": "stdout",
     "output_type": "stream",
     "text": [
      "<root>\n",
      "<even_week> false</even_week>\n",
      "<date>12.11.2024</date>\n",
      "<day_of_week>Tuesday</day_of_week>\n",
      "<couples>\n",
      "  <item>\n",
      "    <format>Очно-дистанционный</format>\n",
      "    <group>2.3</group>\n",
      "    <type>Практика</type>\n",
      "    <name>Математическийанализ</name>\n",
      "    <teacher>ЮроваТатьянаСергеевна</teacher>\n",
      "    <place>\n",
      "      <campus>Кронверкскийпр.,д.49,лит.А</campus>\n",
      "      <audience>2414</audience>\n",
      "    </place>\n",
      "    <time>\n",
      "      <time_from>8:20</time_from>\n",
      "      <time_to>9:50</time_to>\n",
      "    </time>\n",
      "  </item>\n",
      "  <item>\n",
      "    <format>Очно-дистанционный</format>\n",
      "    <group>2.1</group>\n",
      "    <type>Практика</type>\n",
      "    <name>Линейнаяалгебра</name>\n",
      "    <teacher>ЕфремовИльяДмитриевич</teacher>\n",
      "    <place>\n",
      "      <campus>Кронверкскийпр.,д.49,лит.А</campus>\n",
      "      <audience>1316</audience>\n",
      "    </place>\n",
      "    <time>\n",
      "      <time_from>11:40</time_from>\n",
      "      <time_to>13:10</time_to>\n",
      "    </time>\n",
      "  </item>\n",
      "</couples>\n",
      "</root>\n"
     ]
    },
    {
     "data": {
      "text/plain": [
       "\"\\nwith open('xml_output.xml', 'w', encoding='utf-8') as file:\\n    file.write(xml_output)\""
      ]
     },
     "execution_count": 9,
     "metadata": {},
     "output_type": "execute_result"
    }
   ],
   "source": [
    "def parse_json(data):\n",
    "    di={}\n",
    "    dat=data[1:-1].strip()\n",
    "    skobki=0\n",
    "    arrcheck=0\n",
    "    is_key=True\n",
    "    tekkey=''\n",
    "    tekznach=''\n",
    "    for i in range(len(dat)) :\n",
    "        if dat[i]=='{':\n",
    "            skobki+=1\n",
    "        elif dat[i]=='[':\n",
    "            arrcheck+=1\n",
    "        elif dat[i]==']':\n",
    "            arrcheck-=1\n",
    "        elif dat[i]=='}':\n",
    "            skobki-=1\n",
    "        elif dat[i]==':' and skobki==0:\n",
    "            is_key=False\n",
    "            continue\n",
    "        elif dat[i]==',' and skobki==0 and arrcheck==0:\n",
    "            tekznach=tekznach.replace('\\n','')\n",
    "            di[tekkey.strip().strip('\\n')]=tekznach\n",
    "            tekkey=''\n",
    "            tekznach=''\n",
    "            is_key=True\n",
    "            continue\n",
    "        if is_key==True:\n",
    "            tekkey+=dat[i]\n",
    "        else:\n",
    "            tekznach+=dat[i]\n",
    "    if tekznach and tekkey:\n",
    "        tekznach = tekznach.replace('\\n', '')\n",
    "        tekznach = tekznach.replace(' ', '')\n",
    "        di[tekkey]=tekznach\n",
    "    return di\n",
    "\n",
    "\n",
    "def to_dict(dii):\n",
    "    din={}\n",
    "    for key, value in dii.items():\n",
    "        try:\n",
    "            din[key.strip()[1:-1]]=eval(value)\n",
    "        except:\n",
    "            din[key.strip()[1:-1]] = value\n",
    "            continue\n",
    "    return din\n",
    "\n",
    "\n",
    "def to_string(input_file):\n",
    "    with open(input_file, 'r', encoding='utf-8') as file:\n",
    "        content = file.read()\n",
    "        return content\n",
    "def to_xml(json_data, count):\n",
    "    xml_result = \"\"\n",
    "    probels = \"  \" * count\n",
    "    if isinstance(json_data, dict):\n",
    "        for key, value in json_data.items():\n",
    "            if isinstance(value, (dict, list)):\n",
    "                xml_result += f\"{probels}<{key}>\\n{to_xml(value, count + 1)}{probels}</{key}>\\n\"\n",
    "            else:\n",
    "                xml_result += f\"{probels}<{key}>{value}</{key}>\\n\"\n",
    "    elif isinstance(json_data, list):\n",
    "        for item in json_data:\n",
    "            xml_result += f\"{probels}<item>\\n{to_xml(item, count + 1)}{probels}</item>\\n\"\n",
    "    else:\n",
    "        xml_result += f\"{probels}{json_data}\\n\"\n",
    "\n",
    "    return xml_result\n",
    "data=to_string(\"schedule.json\")\n",
    "di=parse_json(data)\n",
    "\n",
    "di=to_dict(di)\n",
    "d='''<root>\\n''' + to_xml(di,0) +'''</root>'''\n",
    "print(d)\n",
    "'''\n",
    "with open('xml_output.xml', 'w', encoding='utf-8') as file:\n",
    "    file.write(xml_output)'''\n"
   ]
  },
  {
   "cell_type": "code",
   "execution_count": null,
   "metadata": {},
   "outputs": [
    {
     "name": "stdout",
     "output_type": "stream",
     "text": [
      "9.44 ms ± 124 µs per loop (mean ± std. dev. of 7 runs, 100 loops each)\n",
      "1.29 ms ± 39.1 µs per loop (mean ± std. dev. of 7 runs, 1000 loops each)\n",
      "17.3 ms ± 535 µs per loop (mean ± std. dev. of 7 runs, 100 loops each)\n",
      "69.3 ms ± 3.48 ms per loop (mean ± std. dev. of 7 runs, 10 loops each)\n"
     ]
    }
   ],
   "source": [
    "with open('schedule.json', 'r', encoding='utf-8') as file:\n",
    "        content = file.read()\n",
    "d=content\n",
    "%timeit for i in range(100): json_to_xml_replace(d)\n",
    "%timeit for i in range(100): bibl(d)\n",
    "%timeit for i in range(100): regex(d)\n",
    "%timeit for i in range(100): to_xml(to_dict(parse_json(d)),0)"
   ]
  },
  {
   "cell_type": "code",
   "execution_count": null,
   "metadata": {},
   "outputs": [
    {
     "name": "stdout",
     "output_type": "stream",
     "text": [
      "Requirement already satisfied: pandas in c:\\users\\admin\\appdata\\local\\programs\\python\\python38-32\\lib\\site-packages (1.5.3)\n",
      "Requirement already satisfied: python-dateutil>=2.8.1 in c:\\users\\admin\\appdata\\local\\programs\\python\\python38-32\\lib\\site-packages (from pandas) (2.8.1)\n",
      "Requirement already satisfied: numpy>=1.20.3 in c:\\users\\admin\\appdata\\local\\programs\\python\\python38-32\\lib\\site-packages (from pandas) (1.24.2)\n",
      "Requirement already satisfied: pytz>=2020.1 in c:\\users\\admin\\appdata\\local\\programs\\python\\python38-32\\lib\\site-packages (from pandas) (2021.1)\n",
      "Requirement already satisfied: six>=1.5 in c:\\users\\admin\\appdata\\local\\programs\\python\\python38-32\\lib\\site-packages (from python-dateutil>=2.8.1->pandas) (1.15.0)\n",
      "Note: you may need to restart the kernel to use updated packages.\n"
     ]
    },
    {
     "name": "stderr",
     "output_type": "stream",
     "text": [
      "WARNING: You are using pip version 21.0.1; however, version 24.3.1 is available.\n",
      "You should consider upgrading via the 'c:\\Users\\Admin\\AppData\\Local\\Programs\\Python\\Python38-32\\python.exe -m pip install --upgrade pip' command.\n"
     ]
    }
   ],
   "source": [
    "#pip install pandas"
   ]
  },
  {
   "cell_type": "code",
   "execution_count": 29,
   "metadata": {},
   "outputs": [
    {
     "name": "stdout",
     "output_type": "stream",
     "text": [
      "{'even_week': False, 'date': '12.11.2024', 'day_of_week': 'Tuesday', 'couples': [{'format': 'Очно - дистанционный', 'group': '2.3', 'type': 'Практика', 'name': 'Математический анализ', 'teacher': 'Юрова Татьяна Сергеевна', 'place': {'campus': 'Кронверкский пр., д.49, лит.А', 'audience': 2414}, 'time': {'time_from': '8:20', 'time_to': '9:50'}}, {'format': 'Очно - дистанционный', 'group': '2.1', 'type': 'Практика', 'name': 'Линейная алгебра', 'teacher': 'Ефремов Илья Дмитриевич', 'place': {'campus': 'Кронверкский пр., д.49, лит.А', 'audience': 1316}, 'time': {'time_from': '11:40', 'time_to': '13:10'}}]}\n"
     ]
    },
    {
     "data": {
      "text/html": [
       "<div>\n",
       "<style scoped>\n",
       "    .dataframe tbody tr th:only-of-type {\n",
       "        vertical-align: middle;\n",
       "    }\n",
       "\n",
       "    .dataframe tbody tr th {\n",
       "        vertical-align: top;\n",
       "    }\n",
       "\n",
       "    .dataframe thead th {\n",
       "        text-align: right;\n",
       "    }\n",
       "</style>\n",
       "<table border=\"1\" class=\"dataframe\">\n",
       "  <thead>\n",
       "    <tr style=\"text-align: right;\">\n",
       "      <th></th>\n",
       "      <th>even_week</th>\n",
       "      <th>date</th>\n",
       "      <th>day_of_week</th>\n",
       "      <th>couples</th>\n",
       "    </tr>\n",
       "  </thead>\n",
       "  <tbody>\n",
       "    <tr>\n",
       "      <th>0</th>\n",
       "      <td>False</td>\n",
       "      <td>12.11.2024</td>\n",
       "      <td>Tuesday</td>\n",
       "      <td>{'format': 'Очно - дистанционный', 'group': '2...</td>\n",
       "    </tr>\n",
       "    <tr>\n",
       "      <th>1</th>\n",
       "      <td>False</td>\n",
       "      <td>12.11.2024</td>\n",
       "      <td>Tuesday</td>\n",
       "      <td>{'format': 'Очно - дистанционный', 'group': '2...</td>\n",
       "    </tr>\n",
       "  </tbody>\n",
       "</table>\n",
       "</div>"
      ],
      "text/plain": [
       "   even_week        date day_of_week  \\\n",
       "0      False  12.11.2024     Tuesday   \n",
       "1      False  12.11.2024     Tuesday   \n",
       "\n",
       "                                             couples  \n",
       "0  {'format': 'Очно - дистанционный', 'group': '2...  \n",
       "1  {'format': 'Очно - дистанционный', 'group': '2...  "
      ]
     },
     "execution_count": 29,
     "metadata": {},
     "output_type": "execute_result"
    }
   ],
   "source": [
    "import pandas as pd\n",
    "with open('schedule.json', 'r', encoding='utf-8') as file:\n",
    "        content = json.load(file)\n",
    "d=content\n",
    "print(d)\n",
    "df=pd.DataFrame(d)\n",
    "df"
   ]
  }
 ],
 "metadata": {
  "kernelspec": {
   "display_name": "Python 3",
   "language": "python",
   "name": "python3"
  },
  "language_info": {
   "codemirror_mode": {
    "name": "ipython",
    "version": 3
   },
   "file_extension": ".py",
   "mimetype": "text/x-python",
   "name": "python",
   "nbconvert_exporter": "python",
   "pygments_lexer": "ipython3",
   "version": "3.8.0"
  },
  "widgets": {
   "application/vnd.jupyter.widget-state+json": {
    "state": {},
    "version_major": 2,
    "version_minor": 0
   }
  }
 },
 "nbformat": 4,
 "nbformat_minor": 4
}
